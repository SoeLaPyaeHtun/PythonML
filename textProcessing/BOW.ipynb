{
 "cells": [
  {
   "cell_type": "code",
   "execution_count": 1,
   "metadata": {},
   "outputs": [],
   "source": [
    "import string\n",
    "import pandas as pd\n",
    "import nltk\n",
    "from nltk.corpus import stopwords\n",
    "from nltk.stem import WordNetLemmatizer\n",
    "from sklearn.feature_extraction.text import CountVectorizer"
   ]
  },
  {
   "cell_type": "code",
   "execution_count": 3,
   "metadata": {},
   "outputs": [
    {
     "name": "stderr",
     "output_type": "stream",
     "text": [
      "[nltk_data] Downloading package stopwords to\n",
      "[nltk_data]     /Users/soelapyaehtun/nltk_data...\n",
      "[nltk_data]   Unzipping corpora/stopwords.zip.\n"
     ]
    },
    {
     "data": {
      "text/plain": [
       "True"
      ]
     },
     "execution_count": 3,
     "metadata": {},
     "output_type": "execute_result"
    }
   ],
   "source": [
    "docs = [\n",
    "    'John has some cats',\n",
    "    'Cats, being cats, eat fish.',\n",
    "    'I ate a big fish.'\n",
    "]"
   ]
  },
  {
   "cell_type": "code",
   "execution_count": 10,
   "metadata": {},
   "outputs": [],
   "source": [
    "def init_nltk_resources():\n",
    "    nltk.download('stopwords')\n",
    "    nltk.download('punkt')\n",
    "    nltk.download('wordnet')\n",
    "    nltk.download('omw-1.4')"
   ]
  },
  {
   "cell_type": "code",
   "execution_count": 11,
   "metadata": {},
   "outputs": [
    {
     "name": "stderr",
     "output_type": "stream",
     "text": [
      "[nltk_data] Downloading package stopwords to\n",
      "[nltk_data]     /Users/soelapyaehtun/nltk_data...\n",
      "[nltk_data]   Package stopwords is already up-to-date!\n",
      "[nltk_data] Downloading package punkt to\n",
      "[nltk_data]     /Users/soelapyaehtun/nltk_data...\n",
      "[nltk_data]   Package punkt is already up-to-date!\n",
      "[nltk_data] Downloading package wordnet to\n",
      "[nltk_data]     /Users/soelapyaehtun/nltk_data...\n",
      "[nltk_data]   Package wordnet is already up-to-date!\n",
      "[nltk_data] Downloading package omw-1.4 to\n",
      "[nltk_data]     /Users/soelapyaehtun/nltk_data...\n",
      "[nltk_data]   Package omw-1.4 is already up-to-date!\n"
     ]
    }
   ],
   "source": [
    "init_nltk_resources()"
   ]
  },
  {
   "cell_type": "code",
   "execution_count": 12,
   "metadata": {},
   "outputs": [],
   "source": [
    "def preprocess(docs):\n",
    "    clean_docs = []\n",
    "    # get a lemmatizer object from NLTK\n",
    "    lemma = WordNetLemmatizer()\n",
    "    \n",
    "    # get NLTK's list of stopwords\n",
    "    stop_words = stopwords.words('english')\n",
    "    # create a mapper that replaces punctuations (defined \n",
    "    # in string.punctuation) to an empty string \n",
    "    punc = str.maketrans('', '', string.punctuation)\n",
    "    \n",
    "    for doc in docs:\n",
    "        # remove punctuation\n",
    "        doc_no_punc = doc.translate(punc)\n",
    "        # convert all characters to lowercase (normalization)\n",
    "        words = doc_no_punc.lower().split()    \n",
    "        # any word that is not found in NLTK's list of stopwords\n",
    "        # is lemmatized to its root-form ('v' means 'verb')\n",
    "        # and stored in the 'words' array\n",
    "        words = [lemma.lemmatize(word, 'v')\n",
    "                    for word in words if word not in stop_words]    \n",
    "        # join each word in our list to form back a document\n",
    "        clean_docs.append(' '.join(words))\n",
    "    \n",
    "    return clean_docs"
   ]
  },
  {
   "cell_type": "code",
   "execution_count": 13,
   "metadata": {},
   "outputs": [],
   "source": [
    "def BOW(docs):\n",
    "    bow = CountVectorizer()\n",
    "    # toarray() transforms results in a sparse matrix form\n",
    "    # to a dense matrix form\n",
    "    feature_vectors = bow.fit_transform(docs).toarray()\n",
    "    # returning both feature-vectors and feature-names. the \n",
    "    # feature-vectors are aligned with the feature-names (vocab)\n",
    "    return feature_vectors, bow.get_feature_names_out()"
   ]
  },
  {
   "cell_type": "code",
   "execution_count": 14,
   "metadata": {},
   "outputs": [],
   "source": [
    "def pretty_print(feat_vecs, feat_names):\n",
    "    df = pd.DataFrame(data=feat_vecs,\n",
    "            index=['doc1', 'doc2', 'doc3'],\n",
    "            columns=feat_names)\n",
    "    print(df)"
   ]
  },
  {
   "cell_type": "code",
   "execution_count": null,
   "metadata": {},
   "outputs": [],
   "source": [
    "init_nltk_resources()"
   ]
  },
  {
   "cell_type": "code",
   "execution_count": 16,
   "metadata": {},
   "outputs": [
    {
     "name": "stdout",
     "output_type": "stream",
     "text": [
      "['john cat', 'cat cat eat fish', 'eat big fish']\n"
     ]
    }
   ],
   "source": [
    "docs = [\n",
    "    'John has some cats.',\n",
    "    'Cats, being cats, eat fish.',\n",
    "    'I ate a big fish.'\n",
    "]\n",
    "\n",
    "clean_docs = preprocess(docs)\n",
    "print(clean_docs)"
   ]
  },
  {
   "cell_type": "code",
   "execution_count": 17,
   "metadata": {},
   "outputs": [
    {
     "name": "stdout",
     "output_type": "stream",
     "text": [
      "      big  cat  eat  fish  john\n",
      "doc1    0    1    0     0     1\n",
      "doc2    0    2    1     1     0\n",
      "doc3    1    0    1     1     0\n"
     ]
    }
   ],
   "source": [
    "feat_vecs, feat_names = BOW(clean_docs)\n",
    "pretty_print(feat_vecs, feat_names)"
   ]
  }
 ],
 "metadata": {
  "kernelspec": {
   "display_name": "ml",
   "language": "python",
   "name": "python3"
  },
  "language_info": {
   "codemirror_mode": {
    "name": "ipython",
    "version": 3
   },
   "file_extension": ".py",
   "mimetype": "text/x-python",
   "name": "python",
   "nbconvert_exporter": "python",
   "pygments_lexer": "ipython3",
   "version": "3.10.6"
  },
  "orig_nbformat": 4,
  "vscode": {
   "interpreter": {
    "hash": "08eac26dc1f80337b7d87e94e7159a5bad95c2e85f47efef91c61359b3afbfe9"
   }
  }
 },
 "nbformat": 4,
 "nbformat_minor": 2
}
