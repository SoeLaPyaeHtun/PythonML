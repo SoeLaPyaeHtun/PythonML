{
 "cells": [
  {
   "cell_type": "code",
   "execution_count": 70,
   "metadata": {},
   "outputs": [],
   "source": [
    "import string\n",
    "import pandas as pd\n",
    "import nltk\n",
    "from nltk.corpus import stopwords\n",
    "from nltk.stem import WordNetLemmatizer\n",
    "from sklearn.feature_extraction.text import CountVectorizer, TfidfVectorizer\n",
    "from sklearn.metrics.pairwise import cosine_similarity\n",
    "\n"
   ]
  },
  {
   "cell_type": "code",
   "execution_count": 77,
   "metadata": {},
   "outputs": [],
   "source": [
    "lemm = WordNetLemmatizer()\n",
    "stop = stopwords.words('english')"
   ]
  },
  {
   "cell_type": "code",
   "execution_count": 79,
   "metadata": {},
   "outputs": [
    {
     "name": "stdout",
     "output_type": "stream",
     "text": [
      "['john cat', 'cat cat eat fish', 'eat big fish']\n",
      "['cat fish']\n"
     ]
    }
   ],
   "source": [
    "docs = [\n",
    "    'John has some cats.',\n",
    "    'Cats, being cats, eat fish.',\n",
    "    'I ate a big fish.',\n",
    "    \n",
    "]\n",
    "\n",
    "query = ['cats and fish']\n",
    "\n",
    "def perClean(docs):\n",
    "    result = []\n",
    "    punc = str.maketrans('','',string.punctuation)\n",
    "\n",
    "    for doc in docs:\n",
    "        doc_no_punc = doc.translate(punc) \n",
    "        words = doc_no_punc.lower().split()\n",
    "        words = [lemm.lemmatize(word, 'v') for word in words if word not in stop]\n",
    "        result.append(\" \".join(words))\n",
    "    return result\n",
    "\n",
    "print(perClean(docs))\n",
    "print(perClean(query))\n",
    "\n",
    "resultOut = perClean(docs)\n",
    "queryResult = perClean(query)\n",
    "\n"
   ]
  },
  {
   "cell_type": "code",
   "execution_count": 80,
   "metadata": {},
   "outputs": [
    {
     "name": "stdout",
     "output_type": "stream",
     "text": [
      "[[0.         0.60534851 0.         0.         0.79596054]\n",
      " [0.         0.81649658 0.40824829 0.40824829 0.        ]\n",
      " [0.68091856 0.         0.51785612 0.51785612 0.        ]]\n",
      "[[0.         0.70710678 0.         0.70710678 0.        ]]\n",
      "(3, 5)\n",
      "(1, 5)\n",
      "                       doc1      doc2     doc3\n",
      "cosine similarity  0.428046  0.866025  0.36618\n"
     ]
    }
   ],
   "source": [
    "\n",
    "tfidf = TfidfVectorizer()\n",
    "tfidf.fit(resultOut);\n",
    "fv_corpus = tfidf.transform(resultOut).toarray()\n",
    "fv_query = tfidf.transform(queryResult).toarray()\n",
    "\n",
    "print(fv_corpus)\n",
    "print(fv_query)\n",
    "\n",
    "print(fv_corpus.shape)\n",
    "print(fv_query.shape)\n",
    "\n",
    "\n",
    "similarity = cosine_similarity(fv_query, fv_corpus)\n",
    "\n",
    "cs = pd.DataFrame(data=similarity, index=['cosine similarity'],\n",
    "                columns=['doc1', 'doc2', 'doc3'])\n",
    "\n",
    "print(cs)\n",
    "\n",
    "# result = pd.DataFrame(data=similarity,\n",
    "#             index=['Consine simility'],\n",
    "#             columns=['doc1','doc2','doc3'])"
   ]
  }
 ],
 "metadata": {
  "kernelspec": {
   "display_name": "Python 3.10.6 ('ml')",
   "language": "python",
   "name": "python3"
  },
  "language_info": {
   "codemirror_mode": {
    "name": "ipython",
    "version": 3
   },
   "file_extension": ".py",
   "mimetype": "text/x-python",
   "name": "python",
   "nbconvert_exporter": "python",
   "pygments_lexer": "ipython3",
   "version": "3.10.6"
  },
  "orig_nbformat": 4,
  "vscode": {
   "interpreter": {
    "hash": "08eac26dc1f80337b7d87e94e7159a5bad95c2e85f47efef91c61359b3afbfe9"
   }
  }
 },
 "nbformat": 4,
 "nbformat_minor": 2
}
