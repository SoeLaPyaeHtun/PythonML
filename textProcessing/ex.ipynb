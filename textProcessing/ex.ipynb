{
 "cells": [
  {
   "cell_type": "code",
   "execution_count": 38,
   "metadata": {},
   "outputs": [],
   "source": [
    "from nltk.tokenize import word_tokenize, sent_tokenize"
   ]
  },
  {
   "cell_type": "code",
   "execution_count": 39,
   "metadata": {},
   "outputs": [
    {
     "name": "stdout",
     "output_type": "stream",
     "text": [
      "['this', 'is', 'a', 'test', '.', 'this', 'is', 'not', 'test', '.', 'this', 'is', 'nothing', '.']\n"
     ]
    }
   ],
   "source": [
    "text = 'this is a test. this is not test. this is nothing.'\n",
    "\n",
    "result = word_tokenize(text)\n",
    "print(result)"
   ]
  },
  {
   "cell_type": "code",
   "execution_count": null,
   "metadata": {},
   "outputs": [],
   "source": [
    "result = sent_tokenize(text)\n",
    "print(result)\n",
    "\n",
    "result = [word_tokenize(t) for t in sent_tokenize(text)]\n",
    "print(result)"
   ]
  },
  {
   "cell_type": "code",
   "execution_count": null,
   "metadata": {},
   "outputs": [],
   "source": [
    "from nltk.tokenize import WhitespaceTokenizer\n",
    "\n",
    "space_result = list(WhitespaceTokenizer().span_tokenize(text))\n",
    "print(space_result)"
   ]
  },
  {
   "cell_type": "code",
   "execution_count": null,
   "metadata": {},
   "outputs": [],
   "source": [
    "from nltk.stem import WordNetLemmatizer"
   ]
  },
  {
   "cell_type": "code",
   "execution_count": null,
   "metadata": {},
   "outputs": [],
   "source": [
    "#ADJ, ADJ_SAT, ADV, NOUN, VERB = 'a', 's', 'r', 'n', 'v'\n",
    "lm = WordNetLemmatizer()\n",
    "text = 'he likes cats and dogs,stronger, and teaching machines to learn ugliest'\n",
    "result = [lm.lemmatize(t,'a') for t in word_tokenize(text)]\n",
    "print(result)"
   ]
  },
  {
   "cell_type": "code",
   "execution_count": null,
   "metadata": {},
   "outputs": [],
   "source": [
    "#Stop Words: A stop word is a commonly used word (such as “the”, “a”, “an”, “in”) \n",
    "# that a search engine has been programmed to ignore, both when indexing entries for searching \n",
    "# and when retrieving them as the result of a search query. \n",
    "\n"
   ]
  },
  {
   "cell_type": "code",
   "execution_count": 24,
   "metadata": {},
   "outputs": [
    {
     "name": "stdout",
     "output_type": "stream",
     "text": [
      "['i', 'me', 'my', 'myself', 'we', 'our', 'ours', 'ourselves', 'you', \"you're\", \"you've\", \"you'll\", \"you'd\", 'your', 'yours', 'yourself', 'yourselves', 'he', 'him', 'his', 'himself', 'she', \"she's\", 'her', 'hers', 'herself', 'it', \"it's\", 'its', 'itself', 'they', 'them', 'their', 'theirs', 'themselves', 'what', 'which', 'who', 'whom', 'this', 'that', \"that'll\", 'these', 'those', 'am', 'is', 'are', 'was', 'were', 'be', 'been', 'being', 'have', 'has', 'had', 'having', 'do', 'does', 'did', 'doing', 'a', 'an', 'the', 'and', 'but', 'if', 'or', 'because', 'as', 'until', 'while', 'of', 'at', 'by', 'for', 'with', 'about', 'against', 'between', 'into', 'through', 'during', 'before', 'after', 'above', 'below', 'to', 'from', 'up', 'down', 'in', 'out', 'on', 'off', 'over', 'under', 'again', 'further', 'then', 'once', 'here', 'there', 'when', 'where', 'why', 'how', 'all', 'any', 'both', 'each', 'few', 'more', 'most', 'other', 'some', 'such', 'no', 'nor', 'not', 'only', 'own', 'same', 'so', 'than', 'too', 'very', 's', 't', 'can', 'will', 'just', 'don', \"don't\", 'should', \"should've\", 'now', 'd', 'll', 'm', 'o', 're', 've', 'y', 'ain', 'aren', \"aren't\", 'couldn', \"couldn't\", 'didn', \"didn't\", 'doesn', \"doesn't\", 'hadn', \"hadn't\", 'hasn', \"hasn't\", 'haven', \"haven't\", 'isn', \"isn't\", 'ma', 'mightn', \"mightn't\", 'mustn', \"mustn't\", 'needn', \"needn't\", 'shan', \"shan't\", 'shouldn', \"shouldn't\", 'wasn', \"wasn't\", 'weren', \"weren't\", 'won', \"won't\", 'wouldn', \"wouldn't\"]\n"
     ]
    }
   ],
   "source": [
    "from nltk.corpus import stopwords\n",
    "print(stopwords.words('english'))"
   ]
  },
  {
   "cell_type": "code",
   "execution_count": null,
   "metadata": {},
   "outputs": [],
   "source": [
    "import string\n",
    "\n",
    "print(string.punctuation)"
   ]
  },
  {
   "cell_type": "code",
   "execution_count": 16,
   "metadata": {},
   "outputs": [
    {
     "name": "stdout",
     "output_type": "stream",
     "text": [
      "he likes cats and dogs and teching machines to learn\n",
      "['likes', 'cats', 'dogs', 'teching', 'machines', 'learn']\n"
     ]
    }
   ],
   "source": [
    "import string\n",
    "\n",
    "text = 'he likes cats and dogs, and teching machines to learn'\n",
    "\n",
    "punc = str.maketrans('','',string.punctuation)\n",
    "stops = stopwords.words('english')\n",
    "textWithoutPunc = text.translate(punc)\n",
    "print(textWithoutPunc)\n",
    "\n",
    "term = [result for result in word_tokenize(textWithoutPunc) if result not in stops]\n",
    "print(term)"
   ]
  },
  {
   "cell_type": "code",
   "execution_count": null,
   "metadata": {},
   "outputs": [],
   "source": []
  },
  {
   "cell_type": "code",
   "execution_count": 32,
   "metadata": {},
   "outputs": [
    {
     "data": {
      "text/plain": [
       "['john cat', 'cat cat eat fish', 'eat big fish']"
      ]
     },
     "execution_count": 32,
     "metadata": {},
     "output_type": "execute_result"
    }
   ],
   "source": [
    "\n",
    "from nltk.stem import WordNetLemmatizer\n",
    "docs = [\n",
    "    'John has some cats',\n",
    "    'cats, being cats, eat fish',\n",
    "    'i ate a big fish'\n",
    "]\n",
    "\n",
    "def perpareText(docs):\n",
    "    result = []\n",
    "    punc = str.maketrans('','',string.punctuation)\n",
    "    lemma = WordNetLemmatizer()\n",
    "    stop = stopwords.words('english')\n",
    "    for doc in docs:\n",
    "        doc = doc.translate(punc).lower().split()\n",
    "        doc = [lemma.lemmatize(i, 'v') for i in doc if i not in stop]\n",
    "        result.append(' '.join(doc))\n",
    "    return result\n",
    "\n",
    "perpareText(docs)\n"
   ]
  },
  {
   "cell_type": "code",
   "execution_count": 33,
   "metadata": {},
   "outputs": [],
   "source": [
    "from sklearn.feature_extraction.text import CountVectorizer\n",
    "\n",
    "def BOW(doc):\n",
    "    bow = CountVectorizer()\n",
    "    fv = bow.fit_transform(perpareText(docs)).toarray()\n",
    "    return fv, bow.get_feature_names_out()"
   ]
  },
  {
   "cell_type": "code",
   "execution_count": 35,
   "metadata": {},
   "outputs": [],
   "source": [
    "import pandas as pd\n",
    "def pertty_print(fv, feat_name):\n",
    "    df = pd.DataFrame(data=fv,\n",
    "        index= ['one','two','three'],\n",
    "        columns=feat_name)\n",
    "    print(df)"
   ]
  },
  {
   "cell_type": "code",
   "execution_count": 37,
   "metadata": {},
   "outputs": [
    {
     "name": "stdout",
     "output_type": "stream",
     "text": [
      "       big  cat  eat  fish  john\n",
      "one      0    1    0     0     1\n",
      "two      0    2    1     1     0\n",
      "three    1    0    1     1     0\n"
     ]
    }
   ],
   "source": [
    "a, b =BOW(perpareText(docs))\n",
    "pertty_print(a,b)"
   ]
  }
 ],
 "metadata": {
  "kernelspec": {
   "display_name": "Python 3 (ipykernel)",
   "language": "python",
   "name": "python3"
  },
  "language_info": {
   "codemirror_mode": {
    "name": "ipython",
    "version": 3
   },
   "file_extension": ".py",
   "mimetype": "text/x-python",
   "name": "python",
   "nbconvert_exporter": "python",
   "pygments_lexer": "ipython3",
   "version": "3.10.6"
  },
  "vscode": {
   "interpreter": {
    "hash": "08eac26dc1f80337b7d87e94e7159a5bad95c2e85f47efef91c61359b3afbfe9"
   }
  }
 },
 "nbformat": 4,
 "nbformat_minor": 2
}
