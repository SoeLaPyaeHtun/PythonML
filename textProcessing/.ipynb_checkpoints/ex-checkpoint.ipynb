{
 "cells": [
  {
   "cell_type": "code",
   "execution_count": null,
   "metadata": {},
   "outputs": [
    {
     "ename": "",
     "evalue": "",
     "output_type": "error",
     "traceback": [
      "\u001b[1;31mFailed to start the Kernel. \n",
      "\u001b[1;31mThe Jupyter notebook server failed to launch in time\n",
      "\u001b[1;31m/Users/soelapyaehtun/Library/Python/3.9/lib/python/site-packages/traitlets/traitlets.py:2412: FutureWarning: Supporting extra quotes around strings is deprecated in traitlets 5.0. You can use '/Users/soelapyaehtun/Desktop/coding/PythonML/textProcessing' instead of '\"/Users/soelapyaehtun/Desktop/coding/PythonML/textProcessing\"' if you require traitlets >=5.\n",
      "\u001b[1;31m  warn(\n",
      "\u001b[1;31m\n",
      "\u001b[1;31m[I 15:54:28.183 NotebookApp] Serving notebooks from local directory: /Users/soelapyaehtun/Desktop/coding/PythonML/textProcessing\n",
      "\u001b[1;31m\n",
      "\u001b[1;31m[I 15:54:28.183 NotebookApp] Jupyter Notebook 6.5.2 is running at:\n",
      "\u001b[1;31m\n",
      "\u001b[1;31m[I 15:54:28.183 NotebookApp] http://localhost:8888/?token=cf6fa2de5594b77754438b5edf392506db5232fc87dbbde2\n",
      "\u001b[1;31m\n",
      "\u001b[1;31m[I 15:54:28.183 NotebookApp]  or http://127.0.0.1:8888/?token=cf6fa2de5594b77754438b5edf392506db5232fc87dbbde2\n",
      "\u001b[1;31m\n",
      "\u001b[1;31m[I 15:54:28.183 NotebookApp] Use Control-C to stop this server and shut down all kernels (twice to skip confirmation).\n",
      "\u001b[1;31m\n",
      "\u001b[1;31m[C 15:54:28.185 NotebookApp] \n",
      "\u001b[1;31m    \n",
      "\u001b[1;31m    To access the notebook, open this file in a browser:\n",
      "\u001b[1;31m        file:///Users/soelapyaehtun/Library/Jupyter/runtime/nbserver-35182-open.html\n",
      "\u001b[1;31m    Or copy and paste one of these URLs:\n",
      "\u001b[1;31m        http://localhost:8888/?token=cf6fa2de5594b77754438b5edf392506db5232fc87dbbde2\n",
      "\u001b[1;31m     or http://127.0.0.1:8888/?token=cf6fa2de5594b77754438b5edf392506db5232fc87dbbde2. \n",
      "\u001b[1;31mView Jupyter <a href='command:jupyter.viewOutput'>log</a> for further details."
     ]
    }
   ],
   "source": [
    "print('nothing')"
   ]
  },
  {
   "cell_type": "code",
   "execution_count": null,
   "metadata": {},
   "outputs": [],
   "source": []
  }
 ],
 "metadata": {
  "kernelspec": {
   "display_name": "Python 3 (ipykernel)",
   "language": "python",
   "name": "python3"
  },
  "language_info": {
   "codemirror_mode": {
    "name": "ipython",
    "version": 3
   },
   "file_extension": ".py",
   "mimetype": "text/x-python",
   "name": "python",
   "nbconvert_exporter": "python",
   "pygments_lexer": "ipython3",
   "version": "3.10.6"
  },
  "vscode": {
   "interpreter": {
    "hash": "08eac26dc1f80337b7d87e94e7159a5bad95c2e85f47efef91c61359b3afbfe9"
   }
  }
 },
 "nbformat": 4,
 "nbformat_minor": 2
}
